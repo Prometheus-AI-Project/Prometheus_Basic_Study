{
  "cells": [
    {
      "cell_type": "code",
      "execution_count": null,
      "metadata": {
        "id": "uhp2Zaostwyn"
      },
      "outputs": [],
      "source": [
        "# install package\n",
        "!pip install tensorflow"
      ]
    },
    {
      "cell_type": "markdown",
      "metadata": {
        "id": "fagST1bNWbmw"
      },
      "source": [
        "# **Week 6 Assignment**"
      ]
    },
    {
      "cell_type": "markdown",
      "metadata": {
        "id": "i67Z4tgOvU3-"
      },
      "source": [
        "### **Fashion MNIST 데이터셋을 이용하여 신경망 모델 훈련하고 평가하기 (Tensorflow Keras)**"
      ]
    },
    {
      "cell_type": "code",
      "execution_count": null,
      "metadata": {
        "id": "Ekqyb5Dvvk-8"
      },
      "outputs": [],
      "source": [
        "import numpy as np\n",
        "import matplotlib.pyplot as plt\n",
        "import tensorflow as tf\n",
        "from tensorflow.keras import layers, optimizers\n",
        "from tensorflow.keras.models import Sequential, Model\n",
        "from tensorflow.keras.callbacks import EarlyStopping\n",
        "from tensorflow.keras.datasets import fashion_mnist\n",
        "from sklearn.model_selection import train_test_split"
      ]
    },
    {
      "cell_type": "markdown",
      "metadata": {
        "id": "mtK3wVcqX2XY"
      },
      "source": [
        "#### **데이터셋 불러오기 및 전처리**"
      ]
    },
    {
      "cell_type": "markdown",
      "metadata": {
        "id": "doTdMYgOwUhF"
      },
      "source": [
        "**Fashion MNIST 데이터셋을 불러오고 다음과 같이 전처리를 진행해주세요.**"
      ]
    },
    {
      "cell_type": "code",
      "execution_count": null,
      "metadata": {
        "colab": {
          "base_uri": "https://localhost:8080/"
        },
        "id": "TDGlvjR4wQlK",
        "outputId": "036ae1bb-e466-4882-cf7e-300fcda21e7b"
      },
      "outputs": [
        {
          "name": "stdout",
          "output_type": "stream",
          "text": [
            "Downloading data from https://storage.googleapis.com/tensorflow/tf-keras-datasets/train-labels-idx1-ubyte.gz\n",
            "29515/29515 [==============================] - 0s 0us/step\n",
            "Downloading data from https://storage.googleapis.com/tensorflow/tf-keras-datasets/train-images-idx3-ubyte.gz\n",
            "26421880/26421880 [==============================] - 0s 0us/step\n",
            "Downloading data from https://storage.googleapis.com/tensorflow/tf-keras-datasets/t10k-labels-idx1-ubyte.gz\n",
            "5148/5148 [==============================] - 0s 0us/step\n",
            "Downloading data from https://storage.googleapis.com/tensorflow/tf-keras-datasets/t10k-images-idx3-ubyte.gz\n",
            "4422102/4422102 [==============================] - 0s 0us/step\n"
          ]
        }
      ],
      "source": [
        "# Fashion MNIST 데이터셋 불러오기\n",
        "(X_train, y_train),(X_test, y_test) =\n",
        "\n",
        "# 훈련 데이터의 20%를 검증 데이터로 사용\n",
        "X_train, X_val, y_train, y_val =\n",
        "\n",
        "# 데이터 값의 범위를 0~1 사이로 바꾸고, dtype을 float32로 변경하기\n",
        "X_train =\n",
        "X_val =\n",
        "X_test ="
      ]
    },
    {
      "cell_type": "markdown",
      "metadata": {
        "id": "0mLR-HeyxQvM"
      },
      "source": [
        "**데이터의 shape를 확인해주세요.**"
      ]
    },
    {
      "cell_type": "code",
      "execution_count": null,
      "metadata": {
        "colab": {
          "base_uri": "https://localhost:8080/"
        },
        "id": "u9FRcvXSxZm3",
        "outputId": "095e493f-eced-484f-ab5e-c9acc7e31b68"
      },
      "outputs": [
        {
          "name": "stdout",
          "output_type": "stream",
          "text": [
            "X shape: (28, 28)\n"
          ]
        }
      ],
      "source": [
        "X_shape =\n",
        "print(f\"X shape: {X_shape}\")"
      ]
    },
    {
      "cell_type": "markdown",
      "metadata": {
        "id": "DRTE6_i32-p5"
      },
      "source": [
        "**데이터의 클래스 종류와 개수를 확인해주세요.**"
      ]
    },
    {
      "cell_type": "code",
      "execution_count": null,
      "metadata": {
        "colab": {
          "base_uri": "https://localhost:8080/"
        },
        "id": "tk600lzp3J9F",
        "outputId": "29598a0c-4cb3-4dc2-e425-ef27618809a4"
      },
      "outputs": [
        {
          "name": "stdout",
          "output_type": "stream",
          "text": [
            "classes: [0 1 2 3 4 5 6 7 8 9] \t # of classes: 10\n"
          ]
        }
      ],
      "source": [
        "classes =\n",
        "print(f\"classes: {classes} \\t # of classes: {len(classes)}\")"
      ]
    },
    {
      "cell_type": "markdown",
      "metadata": {
        "id": "1YTXYLwV1HzS"
      },
      "source": [
        "#### **신경망 모델 만들기**"
      ]
    },
    {
      "cell_type": "markdown",
      "metadata": {
        "id": "Ki-J03GV2h9O"
      },
      "source": [
        "**다음 조건에 맞는 신경망 모델을 만들어주세요.**\n",
        "- Functional API 이용하기\n",
        "- 입력층이 지난 후 바로 Flatten Layer를 이용하여 입력 데이터를 일자로 펼쳐주기\n",
        "- Flatten Layer 이후, 노드의 개수가 100인 Dense Layer 2개를 연결하기\n",
        "- 2개의 Dense Layer 이후, 데이터의 클래스 개수에 맞게 출력층 만들기\n",
        "- 모든 Dense Layer의 가중치 초기화는 He Normal Initialization 이용하기\n",
        "- 은닉층의 경우, Batch Normalization을 적용하고 활성화 함수는 ReLU 함수 사용하기"
      ]
    },
    {
      "cell_type": "code",
      "execution_count": null,
      "metadata": {
        "colab": {
          "base_uri": "https://localhost:8080/"
        },
        "id": "c_zRalQszhmE",
        "outputId": "354b4990-9ca6-4492-889e-bb61674ba941"
      },
      "outputs": [
        {
          "name": "stdout",
          "output_type": "stream",
          "text": [
            "Model: \"model\"\n",
            "_________________________________________________________________\n",
            " Layer (type)                Output Shape              Param #   \n",
            "=================================================================\n",
            " Input (InputLayer)          [(None, 28, 28)]          0         \n",
            "                                                                 \n",
            " Flatten (Flatten)           (None, 784)               0         \n",
            "                                                                 \n",
            " Dense1 (Dense)              (None, 100)               78500     \n",
            "                                                                 \n",
            " BN1 (BatchNormalization)    (None, 100)               400       \n",
            "                                                                 \n",
            " activation (Activation)     (None, 100)               0         \n",
            "                                                                 \n",
            " Dense2 (Dense)              (None, 100)               10100     \n",
            "                                                                 \n",
            " BN2 (BatchNormalization)    (None, 100)               400       \n",
            "                                                                 \n",
            " activation_1 (Activation)   (None, 100)               0         \n",
            "                                                                 \n",
            " Output (Dense)              (None, 10)                1010      \n",
            "                                                                 \n",
            "=================================================================\n",
            "Total params: 90,410\n",
            "Trainable params: 90,010\n",
            "Non-trainable params: 400\n",
            "_________________________________________________________________\n"
          ]
        }
      ],
      "source": [
        "# Hint: layers.Dense(activation=None)을 통해 활성화 함수를 설정하지 않을 수 있습니다.\n",
        "# Hint: layers.Activation()을 통해 활성화 함수 레이어를 만들 수 있습니다.\n",
        "\n",
        "# 모델 생성\n",
        "input =\n",
        "\n",
        "output =\n",
        "\n",
        "model =\n",
        "model.summary()"
      ]
    },
    {
      "cell_type": "markdown",
      "metadata": {
        "id": "97L6KPqxPLnL"
      },
      "source": [
        "#### **신경망 모델 훈련시키기**"
      ]
    },
    {
      "cell_type": "markdown",
      "metadata": {
        "id": "IfidQZxLPLna"
      },
      "source": [
        "**다음과 같은 하이퍼파라미터를 사용해주세요.**\n",
        "- 손실 함수: Cross Entropy\n",
        "- 옵티마이저: Adam\n",
        "- 학습률: 0.0001\n",
        "- 배치 크기: 128\n",
        "- epoch: 50\n",
        "\n",
        "<br>\n",
        "\n",
        "**EarlyStopping 콜백을 활용해주세요.**\n",
        "- 모니터링할 지표: \"val_loss\"\n",
        "- patience: 3\n",
        "- 최고 성능의 모델 가중치를 복원하도록 설정"
      ]
    },
    {
      "cell_type": "code",
      "execution_count": null,
      "metadata": {
        "colab": {
          "base_uri": "https://localhost:8080/"
        },
        "id": "QJIJbFtjAR8l",
        "outputId": "7db43e4f-d0c6-4f43-fa77-b2c179aa24cc"
      },
      "outputs": [
        {
          "name": "stdout",
          "output_type": "stream",
          "text": [
            "Epoch 1/50\n",
            "375/375 [==============================] - 7s 14ms/step - loss: 0.9444 - accuracy: 0.7085 - val_loss: 0.6483 - val_accuracy: 0.7963\n",
            "Epoch 2/50\n",
            "375/375 [==============================] - 4s 11ms/step - loss: 0.5367 - accuracy: 0.8248 - val_loss: 0.4905 - val_accuracy: 0.8328\n",
            "Epoch 3/50\n",
            "375/375 [==============================] - 4s 10ms/step - loss: 0.4510 - accuracy: 0.8473 - val_loss: 0.4412 - val_accuracy: 0.8475\n",
            "Epoch 4/50\n",
            "375/375 [==============================] - 3s 7ms/step - loss: 0.4072 - accuracy: 0.8598 - val_loss: 0.4085 - val_accuracy: 0.8567\n",
            "Epoch 5/50\n",
            "375/375 [==============================] - 3s 9ms/step - loss: 0.3798 - accuracy: 0.8679 - val_loss: 0.3929 - val_accuracy: 0.8606\n",
            "Epoch 6/50\n",
            "375/375 [==============================] - 2s 6ms/step - loss: 0.3588 - accuracy: 0.8745 - val_loss: 0.3755 - val_accuracy: 0.8673\n",
            "Epoch 7/50\n",
            "375/375 [==============================] - 2s 6ms/step - loss: 0.3408 - accuracy: 0.8794 - val_loss: 0.3632 - val_accuracy: 0.8712\n",
            "Epoch 8/50\n",
            "375/375 [==============================] - 2s 6ms/step - loss: 0.3268 - accuracy: 0.8843 - val_loss: 0.3531 - val_accuracy: 0.8712\n",
            "Epoch 9/50\n",
            "375/375 [==============================] - 2s 6ms/step - loss: 0.3132 - accuracy: 0.8886 - val_loss: 0.3455 - val_accuracy: 0.8738\n",
            "Epoch 10/50\n",
            "375/375 [==============================] - 3s 9ms/step - loss: 0.3032 - accuracy: 0.8911 - val_loss: 0.3573 - val_accuracy: 0.8696\n",
            "Epoch 11/50\n",
            "375/375 [==============================] - 2s 6ms/step - loss: 0.2920 - accuracy: 0.8953 - val_loss: 0.3433 - val_accuracy: 0.8729\n",
            "Epoch 12/50\n",
            "375/375 [==============================] - 2s 6ms/step - loss: 0.2839 - accuracy: 0.8984 - val_loss: 0.3355 - val_accuracy: 0.8791\n",
            "Epoch 13/50\n",
            "375/375 [==============================] - 2s 6ms/step - loss: 0.2754 - accuracy: 0.9019 - val_loss: 0.3382 - val_accuracy: 0.8773\n",
            "Epoch 14/50\n",
            "375/375 [==============================] - 2s 6ms/step - loss: 0.2669 - accuracy: 0.9053 - val_loss: 0.3319 - val_accuracy: 0.8806\n",
            "Epoch 15/50\n",
            "375/375 [==============================] - 3s 9ms/step - loss: 0.2592 - accuracy: 0.9083 - val_loss: 0.3280 - val_accuracy: 0.8810\n",
            "Epoch 16/50\n",
            "375/375 [==============================] - 2s 6ms/step - loss: 0.2529 - accuracy: 0.9090 - val_loss: 0.3235 - val_accuracy: 0.8830\n",
            "Epoch 17/50\n",
            "375/375 [==============================] - 2s 6ms/step - loss: 0.2480 - accuracy: 0.9114 - val_loss: 0.3225 - val_accuracy: 0.8854\n",
            "Epoch 18/50\n",
            "375/375 [==============================] - 2s 6ms/step - loss: 0.2408 - accuracy: 0.9146 - val_loss: 0.3249 - val_accuracy: 0.8823\n",
            "Epoch 19/50\n",
            "375/375 [==============================] - 2s 6ms/step - loss: 0.2341 - accuracy: 0.9165 - val_loss: 0.3268 - val_accuracy: 0.8830\n",
            "Epoch 20/50\n",
            "374/375 [============================>.] - ETA: 0s - loss: 0.2295 - accuracy: 0.9188Restoring model weights from the end of the best epoch: 17.\n",
            "375/375 [==============================] - 3s 8ms/step - loss: 0.2297 - accuracy: 0.9187 - val_loss: 0.3237 - val_accuracy: 0.8839\n",
            "Epoch 20: early stopping\n"
          ]
        },
        {
          "data": {
            "text/plain": [
              "<keras.callbacks.History at 0x7fe37e5f2bc0>"
            ]
          },
          "execution_count": 7,
          "metadata": {},
          "output_type": "execute_result"
        }
      ],
      "source": [
        "# 모델 컴파일\n",
        "optim =\n",
        "model.compile(optimizer=optim, metrics=[\"accuracy\"])\n",
        "\n",
        "# 모델 훈련\n",
        "early_stopping =\n",
        "model.fit(validation_data=(X_val, y_val), callbacks=[early_stopping])"
      ]
    },
    {
      "cell_type": "markdown",
      "metadata": {
        "id": "Y0te3LDuP7rq"
      },
      "source": [
        "#### **신경망 모델 평가하기**"
      ]
    },
    {
      "cell_type": "markdown",
      "metadata": {
        "id": "RGk6KHwRammn"
      },
      "source": [
        "**테스트 데이터셋을 이용하여 모델을 평가해주세요.**"
      ]
    },
    {
      "cell_type": "code",
      "execution_count": null,
      "metadata": {
        "colab": {
          "base_uri": "https://localhost:8080/"
        },
        "id": "L7EsBKkBP7r5",
        "outputId": "564059fb-7d67-4dfa-818f-0cc096c29786"
      },
      "outputs": [
        {
          "name": "stdout",
          "output_type": "stream",
          "text": [
            "313/313 [==============================] - 1s 2ms/step - loss: 0.3584 - accuracy: 0.8724\n",
            "Accuracy: 0.8723999857902527\n"
          ]
        }
      ],
      "source": [
        "# 모델 평가\n",
        "accuracy =\n",
        "print(f\"Accuracy: {accuracy}\")"
      ]
    },
    {
      "cell_type": "markdown",
      "metadata": {
        "id": "Az3YdEpAHkO1"
      },
      "source": [
        "#### **신경망 모델 저장 및 복원하기**"
      ]
    },
    {
      "cell_type": "markdown",
      "metadata": {
        "id": "fTs0Wf8da5po"
      },
      "source": [
        "**모델을 HDF5 파일 형식으로 저장해주세요.**"
      ]
    },
    {
      "cell_type": "code",
      "execution_count": null,
      "metadata": {
        "id": "4O4kmTv_Cm0F"
      },
      "outputs": [],
      "source": [
        "# 모델 전체 저장하기 (HDF5 파일 형식)\n"
      ]
    },
    {
      "cell_type": "markdown",
      "metadata": {
        "id": "h6KYeFFSH4Ng"
      },
      "source": [
        "**저장한 모델을 불러오고 테스트 데이터셋을 이용하여 불러온 모델을 평가해주세요.**"
      ]
    },
    {
      "cell_type": "code",
      "execution_count": null,
      "metadata": {
        "colab": {
          "base_uri": "https://localhost:8080/"
        },
        "id": "T7dKMeioH3mO",
        "outputId": "5ee68cd7-b349-4df0-8bdc-e2cb57c8bcdc"
      },
      "outputs": [
        {
          "name": "stdout",
          "output_type": "stream",
          "text": [
            "313/313 [==============================] - 1s 2ms/step - loss: 0.3584 - accuracy: 0.8724\n",
            "Loaded Model Accuracy: 0.8723999857902527\n"
          ]
        }
      ],
      "source": [
        "# 저장한 모델 불러오기\n",
        "loaded_model =\n",
        "\n",
        "# 테스트 데이터셋을 이용하여 불러온 모델 평가하기\n",
        "accuracy =\n",
        "print(f\"Loaded Model Accuracy: {accuracy}\")"
      ]
    }
  ],
  "metadata": {
    "colab": {
      "provenance": []
    },
    "kernelspec": {
      "display_name": "Python 3",
      "name": "python3"
    },
    "language_info": {
      "name": "python"
    }
  },
  "nbformat": 4,
  "nbformat_minor": 0
}
