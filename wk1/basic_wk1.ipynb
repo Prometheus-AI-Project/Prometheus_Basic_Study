{
  "cells": [
    {
      "cell_type": "markdown",
      "metadata": {
        "id": "7ez-GuOzY9ak"
      },
      "source": [
        "# Recap\n",
        "\n"
      ]
    },
    {
      "cell_type": "markdown",
      "metadata": {
        "id": "BPaEBVmy0fb8"
      },
      "source": [
        "머신 러닝의 학습 방법은 크게 supervised learning과 unsupervised learning으로 나눌 수 있다.  \n",
        "#### **Supervised learning**\n",
        "1) Classification (분류) - 데이터가 categorical, discrete한 경우에, data가 속할 클래스를 찾아 분류하고자 할때 사용함.  \n",
        "2) Regression (회귀)  - 데이터가 continuous한 경우에 대해, feature variable과 target variable의 관계를 찾아낸다. 임의의 숫자를 예측하고자 함."
      ]
    },
    {
      "cell_type": "markdown",
      "metadata": {
        "id": "AZ4MePWDaNt2"
      },
      "source": [
        "<img src='https://img1.daumcdn.net/thumb/R1280x0/?scode=mtistory2&fname=https%3A%2F%2Fblog.kakaocdn.net%2Fdn%2FbblCkC%2FbtqEq8rEkUa%2FLM1DLkUgBku9ApbkTYX90K%2Fimg.png' width='600' height='300'/>"
      ]
    },
    {
      "cell_type": "markdown",
      "metadata": {
        "id": "3t9coCtCab5A"
      },
      "source": [
        "# 1. Linear Regression (선형 회귀)\n",
        "\n"
      ]
    },
    {
      "cell_type": "markdown",
      "metadata": {
        "id": "lXhtLm2_bW8p"
      },
      "source": [
        "## 1-1. Hypothesis (가설)"
      ]
    },
    {
      "cell_type": "markdown",
      "metadata": {
        "id": "2G1EOLwHbtZ1"
      },
      "source": [
        "**Univariate Linear Regression**(특성이 하나인 선형 회귀)는 비교적 단순하고 성능이 좋다는 장점 때문에 많이 사용되는 대표적인 기법이다.  \n",
        "\n",
        "**Univariate Linear Regression이란 무엇인가?**  \n",
        "-하나의 independent variable x를 dependent variable인 y에 map해주는 linear function에 대입하는 model이다.  \n",
        "\n",
        "쉽게 말해서 hypothesis of linear regression은 학습 데이터와 가장 잘 맞는 하나의 직선을 찾는 과정에서 쓰이는 바로 그 직선의 방정식이라고 할 수 있겠다."
      ]
    },
    {
      "cell_type": "markdown",
      "metadata": {
        "id": "gEVJvnsseDoq"
      },
      "source": [
        "$$\\mathrm H(x)=Wx + b$$\n",
        "\n",
        "- $W$ : weight(가중치)\n",
        "- $b$ : bias(편향)   \n",
        "- 중학교때 배웠던 직선의 방정식과 연관지어 생각해보면, weight는 기울기를, bias는 y절편에 해당된다."
      ]
    },
    {
      "cell_type": "markdown",
      "metadata": {
        "id": "4OCsPx6V12fU"
      },
      "source": [
        "<img src='https://wikidocs.net/images/page/53560/그림3.PNG' width='500' height='320'/>"
      ]
    },
    {
      "cell_type": "code",
      "execution_count": null,
      "metadata": {
        "colab": {
          "base_uri": "https://localhost:8080/"
        },
        "id": "uL2ZPntlmDO4",
        "outputId": "6d3b63e8-16c6-436a-a3ca-a53e1b3a34ce"
      },
      "outputs": [
        {
          "name": "stdout",
          "output_type": "stream",
          "text": [
            "Mounted at /content/drive\n"
          ]
        }
      ],
      "source": [
        "# 드라이브에 접근하기 위해 필요한 라인입니다 (코랩)\n",
        "from google.colab import drive\n",
        "drive.mount('/content/drive')"
      ]
    },
    {
      "cell_type": "code",
      "execution_count": 1,
      "metadata": {
        "id": "_Ff6WEfUYFd-"
      },
      "outputs": [],
      "source": [
        "import pandas as pd\n",
        "import matplotlib.pyplot as plt\n",
        "import numpy as np"
      ]
    },
    {
      "cell_type": "markdown",
      "metadata": {
        "id": "RDsNdkYVfClo"
      },
      "source": [
        "이제 csv파일을 로드하여 선형 회귀를 실습해보자."
      ]
    },
    {
      "cell_type": "code",
      "execution_count": 2,
      "metadata": {
        "colab": {
          "base_uri": "https://localhost:8080/"
        },
        "id": "oU40RYTrn-bY",
        "outputId": "676f25a3-2d37-4115-bcba-e5ce4412ead1"
      },
      "outputs": [
        {
          "name": "stdout",
          "output_type": "stream",
          "text": [
            "            YearsExperience   Salary\n",
            "Unnamed: 0                          \n",
            "0                       1.2  39344.0\n",
            "1                       1.4  46206.0\n",
            "2                       1.6  37732.0\n",
            "3                       2.1  43526.0\n",
            "4                       2.3  39892.0\n"
          ]
        }
      ],
      "source": [
        "# (1) load dataset (구글 드라이브 주소에 따라 변경)\n",
        "df = pd.read_csv('./dataset/Salary_dataset.csv').set_index('Unnamed: 0')\n",
        "\n",
        "# 데이터 일부 보기\n",
        "print(df[:5])"
      ]
    },
    {
      "cell_type": "code",
      "execution_count": 3,
      "metadata": {
        "id": "qssuzD9kYiWZ"
      },
      "outputs": [],
      "source": [
        "# (2) 데이터를 Training Set와 Test Set로 나눠주기.\n",
        "from sklearn.model_selection import train_test_split\n",
        "X_train, X_test, Y_train, Y_test = train_test_split(df['YearsExperience'], df['Salary'], test_size=0.4, random_state=42)\n",
        "\n",
        "# training set와 test set를 2차원 배열로 바꿔준다.\n",
        "X_train = np.array(X_train).reshape(-1, 1)\n",
        "X_test = np.array(X_test).reshape(-1, 1)"
      ]
    },
    {
      "cell_type": "code",
      "execution_count": 4,
      "metadata": {
        "colab": {
          "base_uri": "https://localhost:8080/"
        },
        "id": "JuVkcWfyYAOG",
        "outputId": "785890f0-358c-4723-a4ad-2d19c5867220"
      },
      "outputs": [
        {
          "name": "stdout",
          "output_type": "stream",
          "text": [
            "[72303.50533756]\n"
          ]
        }
      ],
      "source": [
        "# (3) LinearRegression 클래스 -> fit(), score(), predict()\n",
        "from sklearn.linear_model import LinearRegression\n",
        "lr = LinearRegression()\n",
        "\n",
        "# Linear Regression 모델을 훈련한다.\n",
        "lr.fit(X_train, Y_train)\n",
        "\n",
        "# YearsExperience : 5.0 에 대해 예측한다.\n",
        "print(lr.predict([[5.0]]))"
      ]
    },
    {
      "cell_type": "markdown",
      "metadata": {
        "id": "ubzEe334fPNM"
      },
      "source": [
        "- 위에서 살펴봤다시피 선형회귀에서 가중치(weight)는 직선의 기울기를, 편향(bias)는 직선의 y절편에 해당한다.\n",
        "- 머신러닝에서 기울기를 종종 계수(coefficient), 가중치(weight)라고 부른다.\n",
        "- Weight와 Bias를 모델 파라미터라고 부르고, 결국 많은 머신러닝 알고리즘의 Training 과정은 최적의 모델 파라미터를 구하는 것으로 이해할 수 있다.\n"
      ]
    },
    {
      "cell_type": "code",
      "execution_count": 5,
      "metadata": {
        "colab": {
          "base_uri": "https://localhost:8080/"
        },
        "id": "ONv8Wx0cceGI",
        "outputId": "2033c380-6169-4dae-9821-bdc71d4fa2f5"
      },
      "outputs": [
        {
          "name": "stdout",
          "output_type": "stream",
          "text": [
            "[9284.87835182] 25879.113578471894\n"
          ]
        }
      ],
      "source": [
        "# (4) 직선의 가중치(weight), 편향(bias) 출력하기\n",
        "print(lr.coef_, lr.intercept_)"
      ]
    },
    {
      "cell_type": "code",
      "execution_count": 6,
      "metadata": {
        "colab": {
          "base_uri": "https://localhost:8080/",
          "height": 449
        },
        "id": "VXRbkD6edJdJ",
        "outputId": "5e3c499f-2fc1-4b2f-8bb5-3abca696fcf1"
      },
      "outputs": [
        {
          "data": {
            "image/png": "[encoded data removed]",
            "text/plain": [
              "<Figure size 640x480 with 1 Axes>"
            ]
          },
          "metadata": {},
          "output_type": "display_data"
        }
      ],
      "source": [
        "# 시각화\n",
        "plt.scatter(X_train, Y_train)\n",
        "plt.plot([1,10], [1*lr.coef_+lr.intercept_, 10*lr.coef_+lr.intercept_])\n",
        "\n",
        "plt.scatter(5.0, 72303.5, marker='^')\n",
        "plt.xlabel('YearsExperience')\n",
        "plt.ylabel('Salary')\n",
        "plt.show()\n",
        "\n",
        "# 이제는 Training set 범위에서 벗어난 YearsExperience에 대해서도 Salary를 예측할 수 있게 되는 것이다."
      ]
    },
    {
      "cell_type": "markdown",
      "metadata": {
        "id": "RP0CU6hafmIZ"
      },
      "source": [
        "Overfitting과 Underfitting을 확인하기 위해서 결정계수(R^2)를 사용해보자."
      ]
    },
    {
      "cell_type": "code",
      "execution_count": 7,
      "metadata": {
        "colab": {
          "base_uri": "https://localhost:8080/"
        },
        "id": "0g14d2p2eRNq",
        "outputId": "cc074f9a-9f4d-4685-e6fb-e1fa752eaca9"
      },
      "outputs": [
        {
          "name": "stdout",
          "output_type": "stream",
          "text": [
            "0.959168485203858\n",
            "0.9532338376280693\n"
          ]
        }
      ],
      "source": [
        "# Overfitting, Underfitting 확인하기\n",
        "# R^2(결정계수)) 사용하기\n",
        "print(lr.score(X_train, Y_train))\n",
        "print(lr.score(X_test, Y_test))"
      ]
    },
    {
      "cell_type": "markdown",
      "metadata": {
        "id": "OgsH0cT1A3U4"
      },
      "source": [
        "# 2. Polynomial Regression (다항 회귀)\n",
        "- 다항식을 사용한 선형 회귀를 다항 회귀라고 부른다.\n",
        "- 분석하고자 하는 데이터의 변수들이 linear한 관계가 아니라 곡선형인 경우 regression model의 함수는 다음과 같이 일반화하여 표현할 수 있다.  \n",
        "\n",
        "$$\\mathrm y = W_{0} + W_{1}x + ... + W_{d}x^d$$  \n",
        "  \n",
        "  - d : 데이터 분포의 차원\n",
        "  - scikit-learn에서 PolynomialFeatures를 사용하면 된다."
      ]
    },
    {
      "cell_type": "code",
      "execution_count": 8,
      "metadata": {
        "colab": {
          "base_uri": "https://localhost:8080/",
          "height": 448
        },
        "id": "gDcfIFS4iba8",
        "outputId": "b537c15e-63e0-4ccf-e5dc-a269db96e3aa"
      },
      "outputs": [
        {
          "data": {
            "text/plain": [
              "<matplotlib.collections.PathCollection at 0x17bd63d00>"
            ]
          },
          "execution_count": 8,
          "metadata": {},
          "output_type": "execute_result"
        },
        {
          "data": {
            "image/png": "[encoded data removed]",
            "text/plain": [
              "<Figure size 640x480 with 1 Axes>"
            ]
          },
          "metadata": {},
          "output_type": "display_data"
        }
      ],
      "source": [
        "# 이런 그래프는 일반적인 직선으로 해결하기 어려움.\n",
        "n = 100\n",
        "\n",
        "x = 6 * np.random.rand(n, 1) - 3\n",
        "y = 0.5 * x**2 + x + 2 + np.random.rand(n, 1)\n",
        "\n",
        "plt.scatter(x, y, s=5)"
      ]
    },
    {
      "cell_type": "code",
      "execution_count": 9,
      "metadata": {
        "colab": {
          "base_uri": "https://localhost:8080/"
        },
        "id": "gpDhtw7ciktk",
        "outputId": "c916f362-cd1b-43d0-eb03-a404caa3ea02"
      },
      "outputs": [
        {
          "name": "stdout",
          "output_type": "stream",
          "text": [
            "['x0' 'x0^2']\n",
            "[0.64570688]\n",
            "[0.64570688 0.41693737]\n"
          ]
        }
      ],
      "source": [
        "from sklearn.preprocessing import PolynomialFeatures\n",
        "\n",
        "poly = PolynomialFeatures(degree=2, include_bias=False)\n",
        "x_poly = poly.fit_transform(x)\n",
        "print(poly.get_feature_names_out())\n",
        "print(x[0])\n",
        "print(x_poly[0])"
      ]
    },
    {
      "cell_type": "code",
      "execution_count": 10,
      "metadata": {
        "colab": {
          "base_uri": "https://localhost:8080/",
          "height": 430
        },
        "id": "bQM4FAwhjfe7",
        "outputId": "0bec92fa-22b8-4282-a6ef-2303432932ef"
      },
      "outputs": [
        {
          "data": {
            "image/png": "[encoded data removed]",
            "text/plain": [
              "<Figure size 640x480 with 1 Axes>"
            ]
          },
          "metadata": {},
          "output_type": "display_data"
        }
      ],
      "source": [
        "lr = LinearRegression()\n",
        "lr.fit(x_poly, y)\n",
        "\n",
        "# 다항회귀 그래프\n",
        "xx = np.linspace(-1, 3, 200)\n",
        "xx_poly = poly.transform(xx.reshape(-1, 1))\n",
        "y_pred = lr.predict(xx_poly)\n",
        "\n",
        "plt.scatter(x, y, s=3)\n",
        "plt.plot(xx, y_pred, 'r', label = 'prediction')\n",
        "plt.legend()\n",
        "plt.show()"
      ]
    },
    {
      "cell_type": "markdown",
      "metadata": {
        "id": "YaQfwd4F6LyK"
      },
      "source": [
        "## 3. Regularization (규제)"
      ]
    },
    {
      "cell_type": "markdown",
      "metadata": {
        "id": "XHvKO9m-6P_Q"
      },
      "source": [
        "모델이 test dataset에 overfitting(과대 적합)하는 것을 막기 위해 사용된다. 선형 회귀의 경우 regularization을 통해 기울기를 조정한다.  \n",
        "\n",
        "<img src='https://www.analyticsvidhya.com/wp-content/uploads/2015/02/underfitting-overfitting.png' width='650' height='200'/>  "
      ]
    },
    {
      "cell_type": "markdown",
      "metadata": {},
      "source": [
        "Linear regression model에 regularization을 추가한 model을 릿지(ridge)와 라쏘(lasso)라고 부른다.   \n",
        "1) **Ridge regression** - 계수를 제곱한 값을 기준으로 규제 적용\n",
        "- L2 Regularization 이용 (L2 norm(aka Euclidean distance)을 이용한 regularization)\n",
        "- `sklearn.linear_model`에서 `Ridge`를 import해 사용가능하다.  \n",
        "\n",
        "$$\\mathrm J(\\theta) = MSE(\\theta) + \\lambda\\sum_{j=0}^{p}\\theta{j}^2$$\n",
        "\n",
        "2) **Lasso regression** - 계수의 절댓값을 기준으로 규제를 적용\n",
        "- L1 Regularization 이용 (L1 norm(aka Manhattan distance)을 이용한 regularization)\n",
        "- feature selection이 가능해 가지고 있는 data의 feature에 대해 잘 알고 있을때 사용하면 좋다.\n",
        "- `sklearn.linear_model`에서 `Lasso`를 import해 사용가능하다.\n",
        "\n",
        "$$\\mathrm J(\\theta) = MSE(\\theta) + \\lambda\\sum_{j=0}^{p}|\\theta{j}|$$\n",
        "\n",
        "\n",
        "- $\\lambda$ : hyperparameter, regularization의 강도 조절\n",
        "- hyperparameter : 머신러닝 모델이 학습할 수 없고 사람이 알려줘야 하는 파라미터"
      ]
    },
    {
      "cell_type": "code",
      "execution_count": 12,
      "metadata": {
        "colab": {
          "base_uri": "https://localhost:8080/"
        },
        "id": "ex1FRRHQkI1P",
        "outputId": "b84859f9-0153-4fd6-a5e9-6260850d9b61"
      },
      "outputs": [
        {
          "name": "stdout",
          "output_type": "stream",
          "text": [
            "Training Set 점수 : 0.50\n",
            "Test Set 점수 : 0.48\n"
          ]
        }
      ],
      "source": [
        "from sklearn.datasets import fetch_california_housing\n",
        "from sklearn.model_selection import train_test_split\n",
        "from sklearn.linear_model import Lasso, Ridge\n",
        "import numpy as np\n",
        "\n",
        "housing = fetch_california_housing()\n",
        "\n",
        "X_train, X_test, y_train, y_test = train_test_split(housing['data'], housing['target'], test_size = 0.4, random_state=0)\n",
        "\n",
        "lasso = Lasso(alpha=0.3).fit(X_train, y_train) #Ridge로도 변경가능\n",
        "\n",
        "print(\"Training Set 점수 : {:.2f}\".format(lasso.score(X_train, y_train)))\n",
        "print(\"Test Set 점수 : {:.2f}\".format(lasso.score(X_test, y_test)))"
      ]
    },
    {
      "cell_type": "code",
      "execution_count": null,
      "metadata": {},
      "outputs": [],
      "source": []
    }
  ],
  "metadata": {
    "colab": {
      "collapsed_sections": [
        "7ez-GuOzY9ak"
      ],
      "provenance": []
    },
    "kernelspec": {
      "display_name": "Python 3",
      "name": "python3"
    },
    "language_info": {
      "codemirror_mode": {
        "name": "ipython",
        "version": 3
      },
      "file_extension": ".py",
      "mimetype": "text/x-python",
      "name": "python",
      "nbconvert_exporter": "python",
      "pygments_lexer": "ipython3",
      "version": "3.9.6"
    }
  },
  "nbformat": 4,
  "nbformat_minor": 0
}
